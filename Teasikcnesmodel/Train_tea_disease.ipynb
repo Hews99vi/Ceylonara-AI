{
 "cells": [
  {
   "cell_type": "markdown",
   "id": "85cd5d45-4a9a-4bc2-a572-9c5fe77826eb",
   "metadata": {},
   "source": [
    "## Importing Libraries"
   ]
  },
  {
   "cell_type": "code",
   "execution_count": 1,
   "id": "88da7290-b350-4c61-9371-97598e9b2f8e",
   "metadata": {
    "scrolled": true
   },
   "outputs": [
    {
     "ename": "ModuleNotFoundError",
     "evalue": "No module named 'tensorflow'",
     "output_type": "error",
     "traceback": [
      "\u001b[31m---------------------------------------------------------------------------\u001b[39m",
      "\u001b[31mModuleNotFoundError\u001b[39m                       Traceback (most recent call last)",
      "\u001b[36mCell\u001b[39m\u001b[36m \u001b[39m\u001b[32mIn[1]\u001b[39m\u001b[32m, line 1\u001b[39m\n\u001b[32m----> \u001b[39m\u001b[32m1\u001b[39m \u001b[38;5;28;01mimport\u001b[39;00m\u001b[38;5;250m \u001b[39m\u001b[34;01mtensorflow\u001b[39;00m\u001b[38;5;250m \u001b[39m\u001b[38;5;28;01mas\u001b[39;00m\u001b[38;5;250m \u001b[39m\u001b[34;01mtf\u001b[39;00m\n\u001b[32m      2\u001b[39m \u001b[38;5;28;01mimport\u001b[39;00m\u001b[38;5;250m \u001b[39m\u001b[34;01mnumpy\u001b[39;00m\u001b[38;5;250m \u001b[39m\u001b[38;5;28;01mas\u001b[39;00m\u001b[38;5;250m \u001b[39m\u001b[34;01mnp\u001b[39;00m\n\u001b[32m      3\u001b[39m \u001b[38;5;28;01mimport\u001b[39;00m\u001b[38;5;250m \u001b[39m\u001b[34;01mmatplotlib\u001b[39;00m\u001b[34;01m.\u001b[39;00m\u001b[34;01mpyplot\u001b[39;00m\u001b[38;5;250m \u001b[39m\u001b[38;5;28;01mas\u001b[39;00m\u001b[38;5;250m \u001b[39m\u001b[34;01mplt\u001b[39;00m\n",
      "\u001b[31mModuleNotFoundError\u001b[39m: No module named 'tensorflow'"
     ]
    }
   ],
   "source": [
    "\n",
    "import tensorflow as tf\n",
    "import numpy as np\n",
    "import matplotlib.pyplot as plt\n",
    "import pandas as pd\n",
    "import seaborn as sns\n",
    "\n"
   ]
  },
  {
   "cell_type": "code",
   "execution_count": 2,
   "id": "b6552fcb",
   "metadata": {},
   "outputs": [
    {
     "name": "stdout",
     "output_type": "stream",
     "text": [
      "[PhysicalDevice(name='/physical_device:GPU:0', device_type='GPU')]\n"
     ]
    }
   ],
   "source": [
    "print(tf.config.list_physical_devices('GPU'))"
   ]
  },
  {
   "cell_type": "markdown",
   "id": "e67fc2f1-0ac7-4392-92f0-1d552b29a3b3",
   "metadata": {},
   "source": [
    "## Data Preprocessing"
   ]
  },
  {
   "cell_type": "markdown",
   "id": "18f2d0c9-c4c9-4295-add6-e7fac273f729",
   "metadata": {},
   "source": [
    "## Traning Image Preprocessing"
   ]
  },
  {
   "cell_type": "code",
   "execution_count": 4,
   "id": "e086ef52-e8ef-4a09-9546-3760a45faf2b",
   "metadata": {},
   "outputs": [
    {
     "name": "stdout",
     "output_type": "stream",
     "text": [
      "Found 18470 files belonging to 8 classes.\n"
     ]
    }
   ],
   "source": [
    "training_set = tf.keras.utils.image_dataset_from_directory(\n",
    "    'train',\n",
    "    labels=\"inferred\",\n",
    "    label_mode=\"categorical\",\n",
    "    class_names=None,\n",
    "    color_mode=\"rgb\",\n",
    "    batch_size=32,\n",
    "    image_size=(128, 128),\n",
    "    shuffle=True,\n",
    "    seed=None,\n",
    "    validation_split=None,\n",
    "    subset=None,\n",
    "    interpolation=\"bilinear\",\n",
    "    follow_links=False,\n",
    "    crop_to_aspect_ratio=False\n",
    ")"
   ]
  },
  {
   "cell_type": "markdown",
   "id": "ca0b8f1f-1ae5-497c-a30f-0134109155a6",
   "metadata": {},
   "source": [
    "## Validation Image Preprocessing\n"
   ]
  },
  {
   "cell_type": "code",
   "execution_count": 5,
   "id": "2fe3ff48-2176-4458-82fd-046dcd373dba",
   "metadata": {},
   "outputs": [
    {
     "name": "stdout",
     "output_type": "stream",
     "text": [
      "Found 4086 files belonging to 8 classes.\n"
     ]
    }
   ],
   "source": [
    "validation_set = tf.keras.utils.image_dataset_from_directory(\n",
    "    'valid',\n",
    "    labels=\"inferred\",\n",
    "    label_mode=\"categorical\",\n",
    "    class_names=None,\n",
    "    color_mode=\"rgb\",\n",
    "    batch_size=32,\n",
    "    image_size=(128, 128),\n",
    "    shuffle=True,\n",
    "    seed=None,\n",
    "    validation_split=None,\n",
    "    subset=None,\n",
    "    interpolation=\"bilinear\",\n",
    "    follow_links=False,\n",
    "    crop_to_aspect_ratio=False\n",
    ")\n",
    "\n",
    "\n"
   ]
  },
  {
   "cell_type": "code",
   "execution_count": 6,
   "id": "b837df81-91df-45b8-bdd2-8092dff23af1",
   "metadata": {},
   "outputs": [
    {
     "data": {
      "text/plain": [
       "<BatchDataset element_spec=(TensorSpec(shape=(None, 128, 128, 3), dtype=tf.float32, name=None), TensorSpec(shape=(None, 8), dtype=tf.float32, name=None))>"
      ]
     },
     "execution_count": 6,
     "metadata": {},
     "output_type": "execute_result"
    }
   ],
   "source": [
    "training_set"
   ]
  },
  {
   "cell_type": "code",
   "execution_count": 7,
   "id": "87798d19-d7c6-4757-8c78-9f7c04c33c0f",
   "metadata": {},
   "outputs": [
    {
     "name": "stdout",
     "output_type": "stream",
     "text": [
      "tf.Tensor(\n",
      "[[[[194.     208.     255.    ]\n",
      "   [194.     208.     255.    ]\n",
      "   [194.     208.     255.    ]\n",
      "   ...\n",
      "   [190.     199.     254.    ]\n",
      "   [190.     199.     254.    ]\n",
      "   [190.     199.     254.    ]]\n",
      "\n",
      "  [[194.     208.     255.    ]\n",
      "   [194.     208.     255.    ]\n",
      "   [194.     208.     255.    ]\n",
      "   ...\n",
      "   [190.     199.     254.    ]\n",
      "   [190.     199.     254.    ]\n",
      "   [190.     199.     254.    ]]\n",
      "\n",
      "  [[194.     208.     255.    ]\n",
      "   [194.     208.     255.    ]\n",
      "   [194.     208.     255.    ]\n",
      "   ...\n",
      "   [190.     199.     254.    ]\n",
      "   [190.     199.     254.    ]\n",
      "   [190.     199.     254.    ]]\n",
      "\n",
      "  ...\n",
      "\n",
      "  [[223.75   237.75   250.75  ]\n",
      "   [223.5    236.5    252.5   ]\n",
      "   [222.5    235.5    251.5   ]\n",
      "   ...\n",
      "   [148.     159.     238.    ]\n",
      "   [149.     160.     239.    ]\n",
      "   [149.     160.     239.    ]]\n",
      "\n",
      "  [[224.75   238.75   251.75  ]\n",
      "   [224.     238.     251.    ]\n",
      "   [223.25   236.25   252.25  ]\n",
      "   ...\n",
      "   [149.     160.     239.    ]\n",
      "   [148.     159.     238.    ]\n",
      "   [148.     159.     238.    ]]\n",
      "\n",
      "  [[223.5    237.5    250.5   ]\n",
      "   [223.     237.     250.    ]\n",
      "   [222.25   236.25   249.25  ]\n",
      "   ...\n",
      "   [149.     160.     239.    ]\n",
      "   [148.     159.     238.    ]\n",
      "   [147.     158.     237.    ]]]\n",
      "\n",
      "\n",
      " [[[178.     169.     222.    ]\n",
      "   [178.     169.     222.    ]\n",
      "   [178.     169.     222.    ]\n",
      "   ...\n",
      "   [173.     162.     222.    ]\n",
      "   [173.     162.     222.    ]\n",
      "   [173.     162.     222.    ]]\n",
      "\n",
      "  [[178.     169.     222.    ]\n",
      "   [178.     169.     222.    ]\n",
      "   [178.     169.     222.    ]\n",
      "   ...\n",
      "   [173.     162.     222.    ]\n",
      "   [173.     162.     222.    ]\n",
      "   [173.     162.     222.    ]]\n",
      "\n",
      "  [[178.     169.     222.    ]\n",
      "   [178.     169.     222.    ]\n",
      "   [178.     169.     222.    ]\n",
      "   ...\n",
      "   [173.     162.     222.    ]\n",
      "   [173.     162.     222.    ]\n",
      "   [173.     162.     222.    ]]\n",
      "\n",
      "  ...\n",
      "\n",
      "  [[223.     211.     247.    ]\n",
      "   [221.5    209.5    245.5   ]\n",
      "   [221.     209.     245.    ]\n",
      "   ...\n",
      "   [208.     194.     230.    ]\n",
      "   [208.     194.     230.    ]\n",
      "   [208.     194.     230.    ]]\n",
      "\n",
      "  [[223.     211.     247.    ]\n",
      "   [221.5    209.5    245.5   ]\n",
      "   [221.     209.     245.    ]\n",
      "   ...\n",
      "   [209.     195.     231.    ]\n",
      "   [209.     195.     231.    ]\n",
      "   [209.     195.     231.    ]]\n",
      "\n",
      "  [[223.     211.     247.    ]\n",
      "   [221.5    209.5    245.5   ]\n",
      "   [221.     209.     245.    ]\n",
      "   ...\n",
      "   [209.5    195.5    231.5   ]\n",
      "   [209.5    195.5    231.5   ]\n",
      "   [209.5    195.5    231.5   ]]]\n",
      "\n",
      "\n",
      " [[[251.     247.     235.    ]\n",
      "   [250.     246.     237.    ]\n",
      "   [248.75   244.75   235.75  ]\n",
      "   ...\n",
      "   [250.25   252.25   247.25  ]\n",
      "   [251.     253.     248.    ]\n",
      "   [252.75   255.     248.75  ]]\n",
      "\n",
      "  [[248.5    244.5    235.5   ]\n",
      "   [251.75   246.75   240.75  ]\n",
      "   [250.5    246.5    237.5   ]\n",
      "   ...\n",
      "   [253.     255.     250.    ]\n",
      "   [251.25   253.25   248.25  ]\n",
      "   [251.5    254.5    247.5   ]]\n",
      "\n",
      "  [[250.     246.     237.    ]\n",
      "   [250.25   245.25   239.25  ]\n",
      "   [250.25   245.25   241.25  ]\n",
      "   ...\n",
      "   [252.25   254.25   249.25  ]\n",
      "   [250.5    252.5    247.5   ]\n",
      "   [251.75   254.5    247.75  ]]\n",
      "\n",
      "  ...\n",
      "\n",
      "  [[228.75   222.75   210.75  ]\n",
      "   [225.75   217.75   206.75  ]\n",
      "   [227.5    220.5    210.5   ]\n",
      "   ...\n",
      "   [232.25   224.25   214.75  ]\n",
      "   [234.     230.     219.    ]\n",
      "   [228.75   227.25   215.25  ]]\n",
      "\n",
      "  [[225.25   219.75   206.75  ]\n",
      "   [225.25   221.25   210.25  ]\n",
      "   [226.     218.     207.    ]\n",
      "   ...\n",
      "   [229.25   227.25   215.25  ]\n",
      "   [233.5    227.5    215.5   ]\n",
      "   [229.75   224.75   213.25  ]]\n",
      "\n",
      "  [[213.25   211.25   199.25  ]\n",
      "   [213.25   208.75   193.25  ]\n",
      "   [219.     212.     196.    ]\n",
      "   ...\n",
      "   [232.25   228.25   217.    ]\n",
      "   [232.25   229.25   216.75  ]\n",
      "   [231.75   226.25   217.75  ]]]\n",
      "\n",
      "\n",
      " ...\n",
      "\n",
      "\n",
      " [[[244.5    242.5    247.5   ]\n",
      "   [244.5    242.5    247.5   ]\n",
      "   [244.5    242.5    247.5   ]\n",
      "   ...\n",
      "   [251.     249.     252.    ]\n",
      "   [251.     249.     252.    ]\n",
      "   [251.     249.     252.    ]]\n",
      "\n",
      "  [[244.     242.     247.    ]\n",
      "   [244.     242.     247.    ]\n",
      "   [244.     242.     247.    ]\n",
      "   ...\n",
      "   [251.     249.     252.    ]\n",
      "   [251.     249.     252.    ]\n",
      "   [251.     249.     252.    ]]\n",
      "\n",
      "  [[243.     241.     246.    ]\n",
      "   [243.     241.     246.    ]\n",
      "   [243.     241.     246.    ]\n",
      "   ...\n",
      "   [251.     249.     252.    ]\n",
      "   [251.     249.     252.    ]\n",
      "   [251.     249.     252.    ]]\n",
      "\n",
      "  ...\n",
      "\n",
      "  [[221.     220.     228.    ]\n",
      "   [221.     220.     228.    ]\n",
      "   [221.     220.     228.    ]\n",
      "   ...\n",
      "   [206.     204.     215.    ]\n",
      "   [206.     204.     215.    ]\n",
      "   [206.     204.     215.    ]]\n",
      "\n",
      "  [[221.     220.     228.    ]\n",
      "   [221.     220.     228.    ]\n",
      "   [221.     220.     228.    ]\n",
      "   ...\n",
      "   [205.     203.     214.    ]\n",
      "   [205.     203.     214.    ]\n",
      "   [205.     203.     214.    ]]\n",
      "\n",
      "  [[221.     220.     228.    ]\n",
      "   [221.     220.     228.    ]\n",
      "   [221.     220.     228.    ]\n",
      "   ...\n",
      "   [204.5    202.5    213.5   ]\n",
      "   [204.5    202.5    213.5   ]\n",
      "   [204.5    202.5    213.5   ]]]\n",
      "\n",
      "\n",
      " [[[224.     223.     254.    ]\n",
      "   [223.     222.     253.    ]\n",
      "   [223.     222.     253.    ]\n",
      "   ...\n",
      "   [225.25   225.25   251.25  ]\n",
      "   [226.25   226.25   252.25  ]\n",
      "   [227.     227.     253.    ]]\n",
      "\n",
      "  [[224.     223.     254.    ]\n",
      "   [223.     222.     253.    ]\n",
      "   [223.     222.     253.    ]\n",
      "   ...\n",
      "   [227.5    227.5    253.5   ]\n",
      "   [227.75   227.75   253.75  ]\n",
      "   [228.     228.     254.    ]]\n",
      "\n",
      "  [[224.     223.     254.    ]\n",
      "   [223.     222.     253.    ]\n",
      "   [223.     222.     253.    ]\n",
      "   ...\n",
      "   [227.75   227.75   253.75  ]\n",
      "   [227.5    227.5    253.5   ]\n",
      "   [226.5    226.5    252.5   ]]\n",
      "\n",
      "  ...\n",
      "\n",
      "  [[214.75   204.75   254.75  ]\n",
      "   [213.75   203.75   253.75  ]\n",
      "   [212.     202.     252.    ]\n",
      "   ...\n",
      "   [234.     228.     254.    ]\n",
      "   [234.     228.     254.    ]\n",
      "   [234.     228.     254.    ]]\n",
      "\n",
      "  [[212.25   202.25   252.25  ]\n",
      "   [211.     201.     251.    ]\n",
      "   [209.25   199.25   249.25  ]\n",
      "   ...\n",
      "   [234.     228.     254.    ]\n",
      "   [234.     228.     254.    ]\n",
      "   [234.     228.     254.    ]]\n",
      "\n",
      "  [[208.5    198.5    248.5   ]\n",
      "   [208.5    198.5    248.5   ]\n",
      "   [209.     199.     249.    ]\n",
      "   ...\n",
      "   [234.     228.     254.    ]\n",
      "   [234.     228.     254.    ]\n",
      "   [234.     228.     254.    ]]]\n",
      "\n",
      "\n",
      " [[[ 67.75    11.875   17.5625]\n",
      "   [ 63.0625   7.375   12.4375]\n",
      "   [ 62.1875   6.3125   8.375 ]\n",
      "   ...\n",
      "   [151.     124.     155.    ]\n",
      "   [148.5    121.5    154.    ]\n",
      "   [146.25   119.25   152.25  ]]\n",
      "\n",
      "  [[ 74.      25.      19.8125]\n",
      "   [ 65.25    16.25    10.75  ]\n",
      "   [ 63.25    14.       6.25  ]\n",
      "   ...\n",
      "   [149.75   122.75   153.875 ]\n",
      "   [146.0625 119.0625 151.6875]\n",
      "   [142.75   115.75   149.25  ]]\n",
      "\n",
      "  [[ 69.875   25.625   21.875 ]\n",
      "   [ 63.875   19.6875  15.75  ]\n",
      "   [ 60.875   16.875   12.375 ]\n",
      "   ...\n",
      "   [150.5    125.     156.875 ]\n",
      "   [145.5    119.4375 153.375 ]\n",
      "   [141.75   115.5    150.5   ]]\n",
      "\n",
      "  ...\n",
      "\n",
      "  [[142.9375 114.9375 136.9375]\n",
      "   [146.     118.     140.    ]\n",
      "   [148.5    120.5    142.5   ]\n",
      "   ...\n",
      "   [205.1875 179.6875 209.9375]\n",
      "   [205.     178.     209.    ]\n",
      "   [204.     177.     208.    ]]\n",
      "\n",
      "  [[140.25   112.25   134.25  ]\n",
      "   [142.9375 114.9375 136.9375]\n",
      "   [146.     118.     140.    ]\n",
      "   ...\n",
      "   [203.4375 177.9375 208.1875]\n",
      "   [203.25   176.25   207.25  ]\n",
      "   [202.25   175.25   206.25  ]]\n",
      "\n",
      "  [[137.9375 109.9375 131.9375]\n",
      "   [140.4375 112.4375 134.4375]\n",
      "   [143.5    115.5    137.5   ]\n",
      "   ...\n",
      "   [201.8125 176.3125 206.5625]\n",
      "   [201.8125 174.8125 205.8125]\n",
      "   [200.9375 173.9375 204.9375]]]], shape=(32, 128, 128, 3), dtype=float32) (32, 128, 128, 3)\n",
      "tf.Tensor(\n",
      "[[0. 0. 0. 0. 0. 0. 1. 0.]\n",
      " [0. 1. 0. 0. 0. 0. 0. 0.]\n",
      " [0. 0. 0. 0. 0. 0. 1. 0.]\n",
      " [0. 0. 0. 0. 0. 1. 0. 0.]\n",
      " [0. 0. 1. 0. 0. 0. 0. 0.]\n",
      " [0. 0. 1. 0. 0. 0. 0. 0.]\n",
      " [0. 0. 1. 0. 0. 0. 0. 0.]\n",
      " [0. 0. 0. 0. 0. 1. 0. 0.]\n",
      " [0. 0. 0. 0. 0. 0. 1. 0.]\n",
      " [0. 0. 0. 0. 0. 0. 1. 0.]\n",
      " [0. 0. 0. 0. 1. 0. 0. 0.]\n",
      " [0. 0. 0. 0. 1. 0. 0. 0.]\n",
      " [0. 0. 0. 0. 1. 0. 0. 0.]\n",
      " [0. 0. 0. 0. 0. 0. 1. 0.]\n",
      " [1. 0. 0. 0. 0. 0. 0. 0.]\n",
      " [0. 0. 1. 0. 0. 0. 0. 0.]\n",
      " [0. 0. 0. 0. 1. 0. 0. 0.]\n",
      " [0. 0. 0. 1. 0. 0. 0. 0.]\n",
      " [0. 1. 0. 0. 0. 0. 0. 0.]\n",
      " [0. 0. 0. 0. 1. 0. 0. 0.]\n",
      " [0. 0. 0. 0. 0. 0. 1. 0.]\n",
      " [0. 0. 0. 0. 0. 0. 0. 1.]\n",
      " [0. 0. 0. 0. 0. 0. 0. 1.]\n",
      " [0. 0. 0. 0. 1. 0. 0. 0.]\n",
      " [0. 0. 0. 1. 0. 0. 0. 0.]\n",
      " [0. 0. 0. 0. 0. 1. 0. 0.]\n",
      " [0. 0. 0. 0. 1. 0. 0. 0.]\n",
      " [0. 0. 0. 0. 0. 1. 0. 0.]\n",
      " [0. 0. 0. 0. 0. 1. 0. 0.]\n",
      " [0. 1. 0. 0. 0. 0. 0. 0.]\n",
      " [0. 0. 0. 0. 0. 0. 1. 0.]\n",
      " [1. 0. 0. 0. 0. 0. 0. 0.]], shape=(32, 8), dtype=float32) (32, 8)\n"
     ]
    }
   ],
   "source": [
    "for x,y in training_set:\n",
    "    print(x,x.shape)\n",
    "    print(y,y.shape)\n",
    "    break\n",
    "    "
   ]
  },
  {
   "cell_type": "markdown",
   "id": "a61f5b08-7415-4b91-a5d0-98db623c9f06",
   "metadata": {},
   "source": [
    "## To avoid Overshooting\n",
    "1.Choose small learning rate default 0.001 here we have taken 0.0001\n",
    "2.There may be chance of underfitting so increase number of neuron\n",
    "3.Add more Convolutional Layer to extract more feature from images there may be possibilty that model unable to capture relevant feature or model is confusing due to lack of feature so feed with more feature"
   ]
  },
  {
   "cell_type": "markdown",
   "id": "063e3468-3482-4e77-8326-1a3db38481fb",
   "metadata": {},
   "source": [
    "## Building Model"
   ]
  },
  {
   "cell_type": "code",
   "execution_count": 8,
   "id": "d3d37712-fc15-47a9-b53e-5dcde0bbe27b",
   "metadata": {
    "scrolled": true
   },
   "outputs": [],
   "source": [
    "from tensorflow.keras.models import Sequential\n",
    "from tensorflow.keras.layers import Dense, Conv2D, MaxPooling2D, Flatten, Dropout"
   ]
  },
  {
   "cell_type": "code",
   "execution_count": 9,
   "id": "242163c7-c637-407b-a558-efc66e41a1fd",
   "metadata": {},
   "outputs": [],
   "source": [
    "model = Sequential()"
   ]
  },
  {
   "cell_type": "markdown",
   "id": "13ffd9fd-f76e-403b-9828-77260f817001",
   "metadata": {},
   "source": [
    "## Building Convolution Layer"
   ]
  },
  {
   "cell_type": "code",
   "execution_count": 10,
   "id": "ec85507c-0e86-4cb1-9fc0-d63380d65e1c",
   "metadata": {},
   "outputs": [],
   "source": [
    "model.add(Conv2D(filters=32,kernel_size=3,padding='same',activation='relu',input_shape=[128,128,3]))\n",
    "model.add(Conv2D(filters=32,kernel_size=3,activation='relu'))\n",
    "model.add(MaxPooling2D(pool_size=2, strides=2))"
   ]
  },
  {
   "cell_type": "code",
   "execution_count": 11,
   "id": "338cfae3-c48d-4780-b358-eefeada463b2",
   "metadata": {},
   "outputs": [],
   "source": [
    "model.add(Conv2D(filters=64,kernel_size=3,padding='same',activation='relu'))\n",
    "model.add(Conv2D(filters=64,kernel_size=3,activation='relu'))\n",
    "model.add(MaxPooling2D(pool_size=2, strides=2))"
   ]
  },
  {
   "cell_type": "code",
   "execution_count": 12,
   "id": "cbcb73c4-6500-4539-b8a0-83e010858378",
   "metadata": {},
   "outputs": [],
   "source": [
    "model.add(Conv2D(filters=128,kernel_size=3,padding='same',activation='relu'))\n",
    "model.add(Conv2D(filters=128,kernel_size=3,activation='relu'))\n",
    "model.add(MaxPooling2D(pool_size=2, strides=2))"
   ]
  },
  {
   "cell_type": "code",
   "execution_count": 13,
   "id": "288b59db-8454-4dd7-a626-1aa88309fb4d",
   "metadata": {
    "scrolled": true
   },
   "outputs": [],
   "source": [
    "model.add(Conv2D(filters=256,kernel_size=3,padding='same',activation='relu'))\n",
    "model.add(Conv2D(filters=256,kernel_size=3,activation='relu'))\n",
    "model.add(MaxPooling2D(pool_size=2, strides=2))"
   ]
  },
  {
   "cell_type": "code",
   "execution_count": 14,
   "id": "f3adef2d-b8e5-4326-832c-96468052c62e",
   "metadata": {},
   "outputs": [],
   "source": [
    "model.add(Conv2D(filters=512,kernel_size=3,padding='same',activation='relu'))\n",
    "model.add(Conv2D(filters=512,kernel_size=3,activation='relu'))\n",
    "model.add(MaxPooling2D(pool_size=2, strides=2))"
   ]
  },
  {
   "cell_type": "code",
   "execution_count": 15,
   "id": "01638b13-0847-4bdf-b035-f7ad368d431d",
   "metadata": {},
   "outputs": [],
   "source": [
    "model.add(Dropout(0.25)) # To avoid Overfitting"
   ]
  },
  {
   "cell_type": "code",
   "execution_count": 16,
   "id": "7bed3f0f-a98e-480a-ab71-0137b0ed1bb6",
   "metadata": {},
   "outputs": [],
   "source": [
    "model.add(Flatten())"
   ]
  },
  {
   "cell_type": "code",
   "execution_count": 17,
   "id": "d601880f-bac8-4afa-ac4a-1fea10b7e22a",
   "metadata": {},
   "outputs": [],
   "source": [
    "model.add(Dense(units=1700,activation='relu'))"
   ]
  },
  {
   "cell_type": "code",
   "execution_count": 18,
   "id": "197d5bd9-becf-4713-b0cf-ae2c21b83cca",
   "metadata": {},
   "outputs": [],
   "source": [
    "model.add(Dropout(0.4))"
   ]
  },
  {
   "cell_type": "code",
   "execution_count": 19,
   "id": "1c802c23-57c6-42a1-a5cb-06845cc8b9c6",
   "metadata": {},
   "outputs": [],
   "source": [
    "#Output Layer\n",
    "model.add(Dense(units=8,activation='softmax'))"
   ]
  },
  {
   "cell_type": "markdown",
   "id": "11d17e6e-965e-421b-921c-6f2086b65c8c",
   "metadata": {},
   "source": [
    "## Compiling Model"
   ]
  },
  {
   "cell_type": "code",
   "execution_count": 20,
   "id": "25e5176b-a85c-48cf-ab07-6b3f515281e7",
   "metadata": {},
   "outputs": [],
   "source": [
    "model.compile(\n",
    "    optimizer=tf.keras.optimizers.Adam(learning_rate=0.0001),\n",
    "    loss='categorical_crossentropy',\n",
    "    metrics=['accuracy']\n",
    ")"
   ]
  },
  {
   "cell_type": "code",
   "execution_count": 21,
   "id": "90d66b6a-570b-470d-a31e-bcc847018fc6",
   "metadata": {},
   "outputs": [
    {
     "name": "stdout",
     "output_type": "stream",
     "text": [
      "Model: \"sequential\"\n",
      "_________________________________________________________________\n",
      " Layer (type)                Output Shape              Param #   \n",
      "=================================================================\n",
      " conv2d (Conv2D)             (None, 128, 128, 32)      896       \n",
      "                                                                 \n",
      " conv2d_1 (Conv2D)           (None, 126, 126, 32)      9248      \n",
      "                                                                 \n",
      " max_pooling2d (MaxPooling2D  (None, 63, 63, 32)       0         \n",
      " )                                                               \n",
      "                                                                 \n",
      " conv2d_2 (Conv2D)           (None, 63, 63, 64)        18496     \n",
      "                                                                 \n",
      " conv2d_3 (Conv2D)           (None, 61, 61, 64)        36928     \n",
      "                                                                 \n",
      " max_pooling2d_1 (MaxPooling  (None, 30, 30, 64)       0         \n",
      " 2D)                                                             \n",
      "                                                                 \n",
      " conv2d_4 (Conv2D)           (None, 30, 30, 128)       73856     \n",
      "                                                                 \n",
      " conv2d_5 (Conv2D)           (None, 28, 28, 128)       147584    \n",
      "                                                                 \n",
      " max_pooling2d_2 (MaxPooling  (None, 14, 14, 128)      0         \n",
      " 2D)                                                             \n",
      "                                                                 \n",
      " conv2d_6 (Conv2D)           (None, 14, 14, 256)       295168    \n",
      "                                                                 \n",
      " conv2d_7 (Conv2D)           (None, 12, 12, 256)       590080    \n",
      "                                                                 \n",
      " max_pooling2d_3 (MaxPooling  (None, 6, 6, 256)        0         \n",
      " 2D)                                                             \n",
      "                                                                 \n",
      " conv2d_8 (Conv2D)           (None, 6, 6, 512)         1180160   \n",
      "                                                                 \n",
      " conv2d_9 (Conv2D)           (None, 4, 4, 512)         2359808   \n",
      "                                                                 \n",
      " max_pooling2d_4 (MaxPooling  (None, 2, 2, 512)        0         \n",
      " 2D)                                                             \n",
      "                                                                 \n",
      " dropout (Dropout)           (None, 2, 2, 512)         0         \n",
      "                                                                 \n",
      " flatten (Flatten)           (None, 2048)              0         \n",
      "                                                                 \n",
      " dense (Dense)               (None, 1700)              3483300   \n",
      "                                                                 \n",
      " dropout_1 (Dropout)         (None, 1700)              0         \n",
      "                                                                 \n",
      " dense_1 (Dense)             (None, 8)                 13608     \n",
      "                                                                 \n",
      "=================================================================\n",
      "Total params: 8,209,132\n",
      "Trainable params: 8,209,132\n",
      "Non-trainable params: 0\n",
      "_________________________________________________________________\n"
     ]
    }
   ],
   "source": [
    "model.summary()"
   ]
  },
  {
   "cell_type": "code",
   "execution_count": 22,
   "id": "f8b72dfd",
   "metadata": {},
   "outputs": [
    {
     "name": "stdout",
     "output_type": "stream",
     "text": [
      "Model: \"sequential\"\n",
      "_________________________________________________________________\n",
      " Layer (type)                Output Shape              Param #   \n",
      "=================================================================\n",
      " conv2d (Conv2D)             (None, 128, 128, 32)      896       \n",
      "                                                                 \n",
      " conv2d_1 (Conv2D)           (None, 126, 126, 32)      9248      \n",
      "                                                                 \n",
      " max_pooling2d (MaxPooling2D  (None, 63, 63, 32)       0         \n",
      " )                                                               \n",
      "                                                                 \n",
      " conv2d_2 (Conv2D)           (None, 63, 63, 64)        18496     \n",
      "                                                                 \n",
      " conv2d_3 (Conv2D)           (None, 61, 61, 64)        36928     \n",
      "                                                                 \n",
      " max_pooling2d_1 (MaxPooling  (None, 30, 30, 64)       0         \n",
      " 2D)                                                             \n",
      "                                                                 \n",
      " conv2d_4 (Conv2D)           (None, 30, 30, 128)       73856     \n",
      "                                                                 \n",
      " conv2d_5 (Conv2D)           (None, 28, 28, 128)       147584    \n",
      "                                                                 \n",
      " max_pooling2d_2 (MaxPooling  (None, 14, 14, 128)      0         \n",
      " 2D)                                                             \n",
      "                                                                 \n",
      " conv2d_6 (Conv2D)           (None, 14, 14, 256)       295168    \n",
      "                                                                 \n",
      " conv2d_7 (Conv2D)           (None, 12, 12, 256)       590080    \n",
      "                                                                 \n",
      " max_pooling2d_3 (MaxPooling  (None, 6, 6, 256)        0         \n",
      " 2D)                                                             \n",
      "                                                                 \n",
      " conv2d_8 (Conv2D)           (None, 6, 6, 512)         1180160   \n",
      "                                                                 \n",
      " conv2d_9 (Conv2D)           (None, 4, 4, 512)         2359808   \n",
      "                                                                 \n",
      " max_pooling2d_4 (MaxPooling  (None, 2, 2, 512)        0         \n",
      " 2D)                                                             \n",
      "                                                                 \n",
      " dropout (Dropout)           (None, 2, 2, 512)         0         \n",
      "                                                                 \n",
      " flatten (Flatten)           (None, 2048)              0         \n",
      "                                                                 \n",
      " dense (Dense)               (None, 1700)              3483300   \n",
      "                                                                 \n",
      " dropout_1 (Dropout)         (None, 1700)              0         \n",
      "                                                                 \n",
      " dense_1 (Dense)             (None, 8)                 13608     \n",
      "                                                                 \n",
      "=================================================================\n",
      "Total params: 8,209,132\n",
      "Trainable params: 8,209,132\n",
      "Non-trainable params: 0\n",
      "_________________________________________________________________\n"
     ]
    }
   ],
   "source": [
    "model.summary()"
   ]
  },
  {
   "cell_type": "code",
   "execution_count": 23,
   "id": "e502c41b",
   "metadata": {},
   "outputs": [],
   "source": [
    "###Check if GPU is available"
   ]
  },
  {
   "cell_type": "code",
   "execution_count": null,
   "id": "65bd6d4f",
   "metadata": {},
   "outputs": [],
   "source": []
  },
  {
   "cell_type": "code",
   "execution_count": null,
   "id": "ba35470b",
   "metadata": {},
   "outputs": [],
   "source": []
  },
  {
   "cell_type": "markdown",
   "id": "1d5aab6f-2aa7-4ba1-89aa-16d871a5b21b",
   "metadata": {},
   "source": [
    "## Model Traning"
   ]
  },
  {
   "cell_type": "code",
   "execution_count": 24,
   "id": "f32e2398-7190-4d14-994a-c466fcce6822",
   "metadata": {},
   "outputs": [
    {
     "name": "stdout",
     "output_type": "stream",
     "text": [
      "Epoch 1/10\n",
      "578/578 [==============================] - 131s 214ms/step - loss: 1.0699 - accuracy: 0.5801 - val_loss: 0.7056 - val_accuracy: 0.7572\n",
      "Epoch 2/10\n",
      "578/578 [==============================] - 72s 124ms/step - loss: 0.4538 - accuracy: 0.8314 - val_loss: 0.3033 - val_accuracy: 0.8943\n",
      "Epoch 3/10\n",
      "578/578 [==============================] - 72s 124ms/step - loss: 0.2455 - accuracy: 0.9124 - val_loss: 0.2973 - val_accuracy: 0.8962\n",
      "Epoch 4/10\n",
      "578/578 [==============================] - 158s 273ms/step - loss: 0.1581 - accuracy: 0.9432 - val_loss: 0.1877 - val_accuracy: 0.9339\n",
      "Epoch 5/10\n",
      "578/578 [==============================] - 177s 305ms/step - loss: 0.0991 - accuracy: 0.9656 - val_loss: 0.0982 - val_accuracy: 0.9667\n",
      "Epoch 6/10\n",
      "578/578 [==============================] - 171s 295ms/step - loss: 0.0734 - accuracy: 0.9752 - val_loss: 0.0967 - val_accuracy: 0.9701\n",
      "Epoch 7/10\n",
      "578/578 [==============================] - 170s 294ms/step - loss: 0.0587 - accuracy: 0.9792 - val_loss: 0.0917 - val_accuracy: 0.9731\n",
      "Epoch 8/10\n",
      "578/578 [==============================] - 172s 297ms/step - loss: 0.0597 - accuracy: 0.9805 - val_loss: 0.0792 - val_accuracy: 0.9794\n",
      "Epoch 9/10\n",
      "578/578 [==============================] - 172s 297ms/step - loss: 0.0552 - accuracy: 0.9822 - val_loss: 0.0518 - val_accuracy: 0.9878\n",
      "Epoch 10/10\n",
      "578/578 [==============================] - 172s 296ms/step - loss: 0.0424 - accuracy: 0.9867 - val_loss: 0.0533 - val_accuracy: 0.9887\n"
     ]
    }
   ],
   "source": [
    "training_history = model.fit(x=training_set,validation_data=validation_set,epochs=10)"
   ]
  },
  {
   "cell_type": "markdown",
   "id": "59c86388-ebd8-44ad-b57b-6cbe00ca1c72",
   "metadata": {},
   "source": [
    "## Evaluating Model"
   ]
  },
  {
   "cell_type": "code",
   "execution_count": 25,
   "id": "87af63a8-5bcd-44eb-ad92-61b0a533edfd",
   "metadata": {},
   "outputs": [
    {
     "name": "stdout",
     "output_type": "stream",
     "text": [
      "578/578 [==============================] - 54s 92ms/step - loss: 0.0082 - accuracy: 0.9978\n"
     ]
    }
   ],
   "source": [
    "#Training set Accuracy\n",
    "train_loss, train_acc = model.evaluate(training_set)"
   ]
  },
  {
   "cell_type": "code",
   "execution_count": 26,
   "id": "a2e4bb00-7b68-4a29-a6c4-adcb87b21410",
   "metadata": {},
   "outputs": [
    {
     "name": "stdout",
     "output_type": "stream",
     "text": [
      "0.008218840695917606 0.997834324836731\n"
     ]
    }
   ],
   "source": [
    "print(train_loss,train_acc)"
   ]
  },
  {
   "cell_type": "code",
   "execution_count": 27,
   "id": "3e617610-1726-4f80-8ad3-31cfbe2cef66",
   "metadata": {},
   "outputs": [
    {
     "name": "stdout",
     "output_type": "stream",
     "text": [
      "128/128 [==============================] - 15s 109ms/step - loss: 0.0533 - accuracy: 0.9887\n"
     ]
    }
   ],
   "source": [
    "#Model on validation set\n",
    "val_loss, val_acc = model.evaluate(validation_set)"
   ]
  },
  {
   "cell_type": "code",
   "execution_count": 28,
   "id": "33651eb5-ec89-4190-9e59-24b2c7804715",
   "metadata": {},
   "outputs": [
    {
     "name": "stdout",
     "output_type": "stream",
     "text": [
      "0.05328547954559326 0.9887420535087585\n"
     ]
    }
   ],
   "source": [
    "print(val_loss,val_acc)"
   ]
  },
  {
   "cell_type": "code",
   "execution_count": null,
   "id": "4e870a75-e2ca-487a-b786-c336b36aaf03",
   "metadata": {},
   "outputs": [],
   "source": []
  },
  {
   "cell_type": "markdown",
   "id": "d5ff0600-c8f9-48f0-99de-b781f2e7861f",
   "metadata": {},
   "source": [
    "## Saving Model"
   ]
  },
  {
   "cell_type": "code",
   "execution_count": 29,
   "id": "13758137-6ff6-4382-bbc0-988b62e96d43",
   "metadata": {},
   "outputs": [
    {
     "name": "stdout",
     "output_type": "stream",
     "text": [
      "Training Accuracy: 0.9978\n"
     ]
    }
   ],
   "source": [
    "# First check if the model has been trained properly\n",
    "print(f\"Training Accuracy: {train_acc:.4f}\")\n",
    "\n"
   ]
  },
  {
   "cell_type": "code",
   "execution_count": 30,
   "id": "33620396",
   "metadata": {},
   "outputs": [
    {
     "name": "stdout",
     "output_type": "stream",
     "text": [
      "Model saved successfully at: trained_model_v20250412_035536.keras\n"
     ]
    }
   ],
   "source": [
    "# Save the model with a clear version number or timestamp\n",
    "import datetime\n",
    "timestamp = datetime.datetime.now().strftime(\"%Y%m%d_%H%M%S\")\n",
    "model_path = f'trained_model_v{timestamp}.keras'\n",
    "model.save(model_path)\n",
    "\n",
    "# Verify the save was successful\n",
    "print(f\"Model saved successfully at: {model_path}\")"
   ]
  },
  {
   "cell_type": "code",
   "execution_count": 31,
   "id": "fae87070",
   "metadata": {},
   "outputs": [
    {
     "name": "stdout",
     "output_type": "stream",
     "text": [
      "Model: \"sequential\"\n",
      "_________________________________________________________________\n",
      " Layer (type)                Output Shape              Param #   \n",
      "=================================================================\n",
      " conv2d (Conv2D)             (None, 128, 128, 32)      896       \n",
      "                                                                 \n",
      " conv2d_1 (Conv2D)           (None, 126, 126, 32)      9248      \n",
      "                                                                 \n",
      " max_pooling2d (MaxPooling2D  (None, 63, 63, 32)       0         \n",
      " )                                                               \n",
      "                                                                 \n",
      " conv2d_2 (Conv2D)           (None, 63, 63, 64)        18496     \n",
      "                                                                 \n",
      " conv2d_3 (Conv2D)           (None, 61, 61, 64)        36928     \n",
      "                                                                 \n",
      " max_pooling2d_1 (MaxPooling  (None, 30, 30, 64)       0         \n",
      " 2D)                                                             \n",
      "                                                                 \n",
      " conv2d_4 (Conv2D)           (None, 30, 30, 128)       73856     \n",
      "                                                                 \n",
      " conv2d_5 (Conv2D)           (None, 28, 28, 128)       147584    \n",
      "                                                                 \n",
      " max_pooling2d_2 (MaxPooling  (None, 14, 14, 128)      0         \n",
      " 2D)                                                             \n",
      "                                                                 \n",
      " conv2d_6 (Conv2D)           (None, 14, 14, 256)       295168    \n",
      "                                                                 \n",
      " conv2d_7 (Conv2D)           (None, 12, 12, 256)       590080    \n",
      "                                                                 \n",
      " max_pooling2d_3 (MaxPooling  (None, 6, 6, 256)        0         \n",
      " 2D)                                                             \n",
      "                                                                 \n",
      " conv2d_8 (Conv2D)           (None, 6, 6, 512)         1180160   \n",
      "                                                                 \n",
      " conv2d_9 (Conv2D)           (None, 4, 4, 512)         2359808   \n",
      "                                                                 \n",
      " max_pooling2d_4 (MaxPooling  (None, 2, 2, 512)        0         \n",
      " 2D)                                                             \n",
      "                                                                 \n",
      " dropout (Dropout)           (None, 2, 2, 512)         0         \n",
      "                                                                 \n",
      " flatten (Flatten)           (None, 2048)              0         \n",
      "                                                                 \n",
      " dense (Dense)               (None, 1700)              3483300   \n",
      "                                                                 \n",
      " dropout_1 (Dropout)         (None, 1700)              0         \n",
      "                                                                 \n",
      " dense_1 (Dense)             (None, 8)                 13608     \n",
      "                                                                 \n",
      "=================================================================\n",
      "Total params: 8,209,132\n",
      "Trainable params: 8,209,132\n",
      "Non-trainable params: 0\n",
      "_________________________________________________________________\n"
     ]
    },
    {
     "ename": "NameError",
     "evalue": "name 'test_set' is not defined",
     "output_type": "error",
     "traceback": [
      "\u001b[1;31m---------------------------------------------------------------------------\u001b[0m",
      "\u001b[1;31mNameError\u001b[0m                                 Traceback (most recent call last)",
      "Cell \u001b[1;32mIn[31], line 10\u001b[0m\n\u001b[0;32m      7\u001b[0m model\u001b[38;5;241m.\u001b[39msummary()\n\u001b[0;32m      9\u001b[0m \u001b[38;5;66;03m# If you want to verify the model works, you can evaluate it\u001b[39;00m\n\u001b[1;32m---> 10\u001b[0m test_loss, test_acc \u001b[38;5;241m=\u001b[39m model\u001b[38;5;241m.\u001b[39mevaluate(\u001b[43mtest_set\u001b[49m)\n\u001b[0;32m     11\u001b[0m \u001b[38;5;28mprint\u001b[39m(\u001b[38;5;124mf\u001b[39m\u001b[38;5;124m\"\u001b[39m\u001b[38;5;124mTest accuracy: \u001b[39m\u001b[38;5;132;01m{\u001b[39;00mtest_acc\u001b[38;5;132;01m:\u001b[39;00m\u001b[38;5;124m.4f\u001b[39m\u001b[38;5;132;01m}\u001b[39;00m\u001b[38;5;124m\"\u001b[39m)\n",
      "\u001b[1;31mNameError\u001b[0m: name 'test_set' is not defined"
     ]
    }
   ],
   "source": [
    "import tensorflow as tf\n",
    "\n",
    "# Load the saved model\n",
    "model = tf.keras.models.load_model('trained_model.keras')\n",
    "\n",
    "# Verify the model architecture\n",
    "model.summary()\n",
    "\n",
    "# If you want to verify the model works, you can evaluate it\n",
    "test_loss, test_acc = model.evaluate(test_set)\n",
    "print(f\"Test accuracy: {test_acc:.4f}\")"
   ]
  },
  {
   "cell_type": "code",
   "execution_count": null,
   "id": "4d884b50",
   "metadata": {},
   "outputs": [],
   "source": [
    "# Then save the model\n",
    "## model.save('trained_model.keras')"
   ]
  },
  {
   "cell_type": "code",
   "execution_count": null,
   "id": "c3d33a7a-8b3d-4325-8bf2-8372e35203da",
   "metadata": {},
   "outputs": [
    {
     "data": {
      "text/plain": [
       "{'loss': [1.3750864267349243,\n",
       "  0.8251698613166809,\n",
       "  0.6113005876541138,\n",
       "  0.424752414226532,\n",
       "  0.3131627142429352,\n",
       "  0.2540685534477234,\n",
       "  0.18909168243408203,\n",
       "  0.16790372133255005,\n",
       "  0.11823796480894089,\n",
       "  0.11727672070264816],\n",
       " 'accuracy': [0.453275591135025,\n",
       "  0.672874927520752,\n",
       "  0.7588521838188171,\n",
       "  0.8413643836975098,\n",
       "  0.8815376162528992,\n",
       "  0.9104493856430054,\n",
       "  0.9334055185317993,\n",
       "  0.9430427551269531,\n",
       "  0.9604764580726624,\n",
       "  0.9605847597122192],\n",
       " 'val_loss': [0.9535936713218689,\n",
       "  0.6794667840003967,\n",
       "  0.46543821692466736,\n",
       "  0.3424772024154663,\n",
       "  0.2838451862335205,\n",
       "  0.2369638979434967,\n",
       "  0.21778756380081177,\n",
       "  0.1808086782693863,\n",
       "  0.09965731203556061,\n",
       "  0.12934304773807526],\n",
       " 'val_accuracy': [0.6603034734725952,\n",
       "  0.7376407384872437,\n",
       "  0.8316201567649841,\n",
       "  0.8702887892723083,\n",
       "  0.8932941555976868,\n",
       "  0.9187469482421875,\n",
       "  0.921194314956665,\n",
       "  0.9412628412246704,\n",
       "  0.9672051072120667,\n",
       "  0.9530102610588074]}"
      ]
     },
     "execution_count": 47,
     "metadata": {},
     "output_type": "execute_result"
    }
   ],
   "source": [
    "training_history.history"
   ]
  },
  {
   "cell_type": "code",
   "execution_count": null,
   "id": "35abc364-5694-4b8a-83c2-43a85ccf38bb",
   "metadata": {},
   "outputs": [],
   "source": [
    "#Recording History in json\n",
    "import json\n",
    "with open(\"training_hist.json\",\"w\") as f:\n",
    "    json.dump(training_history.history,f)"
   ]
  },
  {
   "cell_type": "code",
   "execution_count": null,
   "id": "c136cfcf-8352-4aea-8501-02e8ba298909",
   "metadata": {},
   "outputs": [
    {
     "data": {
      "text/plain": [
       "[0.6603034734725952,\n",
       " 0.7376407384872437,\n",
       " 0.8316201567649841,\n",
       " 0.8702887892723083,\n",
       " 0.8932941555976868,\n",
       " 0.9187469482421875,\n",
       " 0.921194314956665,\n",
       " 0.9412628412246704,\n",
       " 0.9672051072120667,\n",
       " 0.9530102610588074]"
      ]
     },
     "execution_count": 31,
     "metadata": {},
     "output_type": "execute_result"
    }
   ],
   "source": [
    "training_history.history['val_accuracy']"
   ]
  },
  {
   "cell_type": "markdown",
   "id": "bfeb343e-b081-4ff0-8c42-1d5637b5cbc1",
   "metadata": {},
   "source": [
    "### Accuracy Visualization"
   ]
  },
  {
   "cell_type": "code",
   "execution_count": null,
   "id": "d0f1ba93-ff9b-4205-8c63-71233389fcc4",
   "metadata": {},
   "outputs": [
    {
     "data": {
      "image/png": "[encoded data removed]",
      "text/plain": [
       "<Figure size 640x480 with 1 Axes>"
      ]
     },
     "metadata": {},
     "output_type": "display_data"
    }
   ],
   "source": [
    "epochs = [i for i in range (1,11)]\n",
    "plt.plot(epochs,training_history.history['accuracy'],color='red', label='Training Accuracy')\n",
    "plt.plot(epochs,training_history.history['val_accuracy'],color='blue', label='Validation Accuracy')\n",
    "plt.xlabel(\"No. of Epochs\")\n",
    "plt.ylabel(\"Accuracy Result\")\n",
    "plt.title(\"Visualization of Accuracy Result\")\n",
    "plt.legend()\n",
    "plt.show()"
   ]
  },
  {
   "cell_type": "markdown",
   "id": "bbe961a6-dc93-4efd-87b6-d76a27537e2a",
   "metadata": {},
   "source": [
    "## Metrics for model evaluation"
   ]
  },
  {
   "cell_type": "code",
   "execution_count": null,
   "id": "eebb1a7d-53bb-452d-a350-649b85672cab",
   "metadata": {},
   "outputs": [
    {
     "data": {
      "text/plain": [
       "['Anthracnose',\n",
       " 'algal leaf',\n",
       " 'bird eye spot',\n",
       " 'brown blight',\n",
       " 'gray light',\n",
       " 'healthy',\n",
       " 'red leaf spot',\n",
       " 'white spot']"
      ]
     },
     "execution_count": 33,
     "metadata": {},
     "output_type": "execute_result"
    }
   ],
   "source": [
    "class_name = validation_set.class_names\n",
    "class_name"
   ]
  },
  {
   "cell_type": "code",
   "execution_count": null,
   "id": "24f57305-4d15-4f71-b2c7-d5a2c6d399f3",
   "metadata": {},
   "outputs": [],
   "source": []
  },
  {
   "cell_type": "code",
   "execution_count": null,
   "id": "bdb66a46-74fc-4a18-86de-9203ce7a594c",
   "metadata": {},
   "outputs": [
    {
     "name": "stdout",
     "output_type": "stream",
     "text": [
      "Found 2043 files belonging to 8 classes.\n"
     ]
    }
   ],
   "source": [
    "test_set = tf.keras.utils.image_dataset_from_directory(\n",
    "    'valid',\n",
    "    labels=\"inferred\",\n",
    "    label_mode=\"categorical\",\n",
    "    class_names=None,\n",
    "    color_mode=\"rgb\",\n",
    "    batch_size=32,\n",
    "    image_size=(128, 128),\n",
    "    shuffle=False,\n",
    "    seed=None,\n",
    "    validation_split=None,\n",
    "    subset=None,\n",
    "    interpolation=\"bilinear\",\n",
    "    follow_links=False,\n",
    "    crop_to_aspect_ratio=False\n",
    ")"
   ]
  },
  {
   "cell_type": "code",
   "execution_count": null,
   "id": "8aeebd03-6347-4d31-a807-7d7b29ce747a",
   "metadata": {},
   "outputs": [
    {
     "name": "stdout",
     "output_type": "stream",
     "text": [
      "64/64 [==============================] - 4s 57ms/step\n"
     ]
    },
    {
     "data": {
      "text/plain": [
       "(array([[8.4519327e-01, 2.5145125e-04, 1.4653005e-01, ..., 2.4347981e-04,\n",
       "         2.8507510e-04, 5.5473356e-04],\n",
       "        [8.0348015e-02, 1.5428202e-04, 3.6592231e-04, ..., 7.9093939e-01,\n",
       "         1.0204238e-04, 5.2754162e-04],\n",
       "        [4.4510361e-02, 3.6644703e-03, 6.3409581e-04, ..., 5.6171995e-01,\n",
       "         6.9902401e-04, 2.7057163e-03],\n",
       "        ...,\n",
       "        [5.3266808e-06, 3.0478556e-03, 1.4198298e-06, ..., 1.8973944e-06,\n",
       "         9.6642652e-06, 6.1969154e-02],\n",
       "        [8.7135653e-08, 2.0155024e-07, 2.8255210e-08, ..., 1.0673879e-08,\n",
       "         9.8343548e-07, 5.6345356e-03],\n",
       "        [1.7210596e-05, 2.8348420e-02, 1.9964916e-06, ..., 5.6986109e-06,\n",
       "         4.3518463e-05, 6.9013171e-02]], dtype=float32),\n",
       " (2043, 8))"
      ]
     },
     "execution_count": 35,
     "metadata": {},
     "output_type": "execute_result"
    }
   ],
   "source": [
    "y_pred = model.predict(test_set)\n",
    "y_pred,y_pred.shape"
   ]
  },
  {
   "cell_type": "code",
   "execution_count": null,
   "id": "5b2a4d28-a80f-49ac-a988-0a95de9dd091",
   "metadata": {},
   "outputs": [],
   "source": [
    "predicted_categories = tf.argmax(y_pred,axis=1)"
   ]
  },
  {
   "cell_type": "code",
   "execution_count": null,
   "id": "82bb98bb-05e7-4ed4-9a8b-0aca2d1fa11d",
   "metadata": {},
   "outputs": [
    {
     "data": {
      "text/plain": [
       "<tf.Tensor: shape=(2043,), dtype=int64, numpy=array([0, 5, 5, ..., 3, 3, 3], dtype=int64)>"
      ]
     },
     "execution_count": 37,
     "metadata": {},
     "output_type": "execute_result"
    }
   ],
   "source": [
    "predicted_categories"
   ]
  },
  {
   "cell_type": "code",
   "execution_count": null,
   "id": "8e69e42e-e0e1-4672-b615-66d013cb21db",
   "metadata": {},
   "outputs": [
    {
     "data": {
      "text/plain": [
       "<tf.Tensor: shape=(2043, 8), dtype=float32, numpy=\n",
       "array([[1., 0., 0., ..., 0., 0., 0.],\n",
       "       [1., 0., 0., ..., 0., 0., 0.],\n",
       "       [1., 0., 0., ..., 0., 0., 0.],\n",
       "       ...,\n",
       "       [0., 0., 0., ..., 0., 0., 1.],\n",
       "       [0., 0., 0., ..., 0., 0., 1.],\n",
       "       [0., 0., 0., ..., 0., 0., 1.]], dtype=float32)>"
      ]
     },
     "execution_count": 38,
     "metadata": {},
     "output_type": "execute_result"
    }
   ],
   "source": [
    "true_categories = tf.concat([y for x,y in test_set],axis=0)\n",
    "true_categories"
   ]
  },
  {
   "cell_type": "code",
   "execution_count": null,
   "id": "1b9fe226-5626-4b26-8062-d1679c12d4cb",
   "metadata": {},
   "outputs": [
    {
     "data": {
      "text/plain": [
       "<tf.Tensor: shape=(2043,), dtype=int64, numpy=array([0, 0, 0, ..., 7, 7, 7], dtype=int64)>"
      ]
     },
     "execution_count": 39,
     "metadata": {},
     "output_type": "execute_result"
    }
   ],
   "source": [
    "Y_true = tf.argmax(true_categories,axis=1)\n",
    "Y_true"
   ]
  },
  {
   "cell_type": "code",
   "execution_count": null,
   "id": "7b288bcd-20db-441d-90c9-5c68d518d5a3",
   "metadata": {},
   "outputs": [],
   "source": []
  },
  {
   "cell_type": "code",
   "execution_count": null,
   "id": "804744a7-8946-41ee-ab69-768b82107ab2",
   "metadata": {},
   "outputs": [],
   "source": [
    "from sklearn.metrics import classification_report,confusion_matrix"
   ]
  },
  {
   "cell_type": "code",
   "execution_count": null,
   "id": "3540e4c7-d2c3-4b47-b937-bcd75c06693f",
   "metadata": {},
   "outputs": [
    {
     "name": "stdout",
     "output_type": "stream",
     "text": [
      "               precision    recall  f1-score   support\n",
      "\n",
      "  Anthracnose       0.98      0.90      0.94       299\n",
      "   algal leaf       1.00      0.94      0.97       232\n",
      "bird eye spot       0.95      0.98      0.97       294\n",
      " brown blight       0.88      0.90      0.89       207\n",
      "   gray light       0.86      0.93      0.89       210\n",
      "      healthy       0.98      1.00      0.99       544\n",
      "red leaf spot       0.97      0.99      0.98       231\n",
      "   white spot       0.95      0.77      0.85        26\n",
      "\n",
      "     accuracy                           0.95      2043\n",
      "    macro avg       0.95      0.93      0.93      2043\n",
      " weighted avg       0.95      0.95      0.95      2043\n",
      "\n"
     ]
    }
   ],
   "source": [
    "print(classification_report(Y_true,predicted_categories,target_names=class_name))"
   ]
  },
  {
   "cell_type": "code",
   "execution_count": null,
   "id": "eff8cb8c-e0fc-4887-9da2-453eddad895e",
   "metadata": {},
   "outputs": [
    {
     "data": {
      "text/plain": [
       "array([[268,   0,  13,   1,   8,   9,   0,   0],\n",
       "       [  0, 218,   0,   4,   6,   1,   2,   1],\n",
       "       [  6,   0, 288,   0,   0,   0,   0,   0],\n",
       "       [  0,   0,   0, 187,  17,   0,   3,   0],\n",
       "       [  0,   0,   1,  14, 195,   0,   0,   0],\n",
       "       [  0,   0,   0,   0,   1, 542,   1,   0],\n",
       "       [  0,   0,   0,   2,   0,   0, 229,   0],\n",
       "       [  0,   0,   0,   5,   1,   0,   0,  20]], dtype=int64)"
      ]
     },
     "execution_count": 42,
     "metadata": {},
     "output_type": "execute_result"
    }
   ],
   "source": [
    "cm = confusion_matrix(Y_true,predicted_categories)\n",
    "cm"
   ]
  },
  {
   "cell_type": "code",
   "execution_count": null,
   "id": "ed052de5-7d98-42a9-879c-c836e5b63e18",
   "metadata": {},
   "outputs": [],
   "source": []
  },
  {
   "cell_type": "markdown",
   "id": "3d7bc6f4-6137-478e-8eee-7ac290502527",
   "metadata": {},
   "source": [
    "### confusion_matrix visualiation"
   ]
  },
  {
   "cell_type": "code",
   "execution_count": null,
   "id": "026d5493-5e84-46fa-a834-8e925897ae1b",
   "metadata": {},
   "outputs": [
    {
     "data": {
      "text/plain": [
       "<Axes: >"
      ]
     },
     "execution_count": 43,
     "metadata": {},
     "output_type": "execute_result"
    },
    {
     "data": {
      "image/png": "[encoded data removed]",
      "text/plain": [
       "<Figure size 640x480 with 2 Axes>"
      ]
     },
     "metadata": {},
     "output_type": "display_data"
    }
   ],
   "source": [
    "sns.heatmap(cm)"
   ]
  },
  {
   "cell_type": "code",
   "execution_count": null,
   "id": "98cd9c37-e857-4591-84ff-a29b2004efc2",
   "metadata": {},
   "outputs": [],
   "source": []
  },
  {
   "cell_type": "code",
   "execution_count": null,
   "id": "2befcda0-a3ce-4efb-8d9f-2ad6e260946c",
   "metadata": {},
   "outputs": [],
   "source": []
  },
  {
   "cell_type": "code",
   "execution_count": null,
   "id": "7be275b4-ced7-4bd9-9349-f0686f86cf81",
   "metadata": {},
   "outputs": [],
   "source": []
  },
  {
   "cell_type": "code",
   "execution_count": null,
   "id": "8bac8c6a-907e-46b2-859a-1549b0d56f06",
   "metadata": {},
   "outputs": [],
   "source": []
  },
  {
   "cell_type": "code",
   "execution_count": null,
   "id": "58397bd8-4740-4c17-8d88-19800a26b27e",
   "metadata": {},
   "outputs": [],
   "source": []
  },
  {
   "cell_type": "code",
   "execution_count": null,
   "id": "7ea631e8-8d5b-49bd-bb8a-3dd571231353",
   "metadata": {},
   "outputs": [],
   "source": []
  },
  {
   "cell_type": "code",
   "execution_count": null,
   "id": "165a7c24-aa33-43dc-b8ca-85bad86e232f",
   "metadata": {},
   "outputs": [],
   "source": []
  },
  {
   "cell_type": "code",
   "execution_count": null,
   "id": "c5ea7fe8-de7c-4b54-a2ce-2466f9235967",
   "metadata": {},
   "outputs": [],
   "source": []
  },
  {
   "cell_type": "code",
   "execution_count": null,
   "id": "822af6cf-26f3-4e88-84bd-03b537bbaf4e",
   "metadata": {},
   "outputs": [],
   "source": []
  },
  {
   "cell_type": "code",
   "execution_count": null,
   "id": "cf29e70d-2029-4c93-9f7a-f21b67776be7",
   "metadata": {},
   "outputs": [],
   "source": []
  },
  {
   "cell_type": "code",
   "execution_count": null,
   "id": "eaf0ecd8-3bb9-4c0b-91ef-f2ef04295a44",
   "metadata": {},
   "outputs": [],
   "source": []
  },
  {
   "cell_type": "code",
   "execution_count": null,
   "id": "68df913f-7990-4684-a7e6-03147a5c274f",
   "metadata": {},
   "outputs": [],
   "source": []
  },
  {
   "cell_type": "code",
   "execution_count": null,
   "id": "82f8b736-a0c7-4a58-ad9f-a9427f8897f1",
   "metadata": {},
   "outputs": [],
   "source": []
  },
  {
   "cell_type": "code",
   "execution_count": null,
   "id": "1890b19e-3175-47ed-bf35-bd4954cd912d",
   "metadata": {},
   "outputs": [],
   "source": []
  },
  {
   "cell_type": "code",
   "execution_count": null,
   "id": "243fb6b9-20f9-4a3a-bc70-78ec333bc50b",
   "metadata": {},
   "outputs": [],
   "source": []
  },
  {
   "cell_type": "code",
   "execution_count": null,
   "id": "78d46642-e183-40f2-a9bd-1f9aa7d4efc3",
   "metadata": {},
   "outputs": [],
   "source": []
  },
  {
   "cell_type": "code",
   "execution_count": null,
   "id": "a7928247-fd69-407b-ba78-78d9e020e585",
   "metadata": {},
   "outputs": [],
   "source": []
  },
  {
   "cell_type": "code",
   "execution_count": null,
   "id": "311512e4-7c7a-4847-a1cf-c7fe63034e6a",
   "metadata": {},
   "outputs": [],
   "source": []
  },
  {
   "cell_type": "code",
   "execution_count": null,
   "id": "8a828108-057a-4911-b8ae-5bc0176fec35",
   "metadata": {},
   "outputs": [],
   "source": []
  },
  {
   "cell_type": "code",
   "execution_count": null,
   "id": "ef9a35a7-3da0-43fb-b3bb-a2dbd338875e",
   "metadata": {},
   "outputs": [],
   "source": []
  }
 ],
 "metadata": {
  "kernelspec": {
   "display_name": "Python 3 (ipykernel)",
   "language": "python",
   "name": "python3"
  },
  "language_info": {
   "codemirror_mode": {
    "name": "ipython",
    "version": 3
   },
   "file_extension": ".py",
   "mimetype": "text/x-python",
   "name": "python",
   "nbconvert_exporter": "python",
   "pygments_lexer": "ipython3",
   "version": "3.13.2"
  }
 },
 "nbformat": 4,
 "nbformat_minor": 5
}
